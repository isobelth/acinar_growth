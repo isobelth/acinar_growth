{
 "cells": [
  {
   "cell_type": "code",
   "execution_count": 1,
   "metadata": {
    "tags": []
   },
   "outputs": [
    {
     "data": {
      "text/html": [
       "<div id=\"glowscript\" class=\"glowscript\"></div>"
      ],
      "text/plain": [
       "<IPython.core.display.HTML object>"
      ]
     },
     "metadata": {},
     "output_type": "display_data"
    },
    {
     "data": {
      "application/javascript": "if (typeof Jupyter !== \"undefined\") { window.__context = { glowscript_container: $(\"#glowscript\").removeAttr(\"id\")};}else{ element.textContent = ' ';}",
      "text/plain": [
       "<IPython.core.display.Javascript object>"
      ]
     },
     "metadata": {},
     "output_type": "display_data"
    },
    {
     "data": {
      "text/html": [
       "<style>.container { width:100% !important; }</style>"
      ],
      "text/plain": [
       "<IPython.core.display.HTML object>"
      ]
     },
     "metadata": {},
     "output_type": "display_data"
    }
   ],
   "source": [
    "from vpython import *\n",
    "import pandas as pd\n",
    "import numpy as np\n",
    "import random\n",
    "import os\n",
    "import imageio\n",
    "import pathlib\n",
    "import pandas as pd\n",
    "import time\n",
    "from IPython.display import display, HTML\n",
    "display(HTML(\"<style>.container { width:100% !important; }</style>\"))\n",
    "limegreen = vector(0.19607843137254902, 0.803921568627451, 0.19607843137254902)\n",
    "dodgerblue = vector(0.11764705882352941, 0.5647058823529412, 1)"
   ]
  },
  {
   "cell_type": "markdown",
   "metadata": {},
   "source": [
    "# Single Run"
   ]
  },
  {
   "cell_type": "code",
   "execution_count": 2,
   "metadata": {},
   "outputs": [
    {
     "data": {
      "application/javascript": "if (typeof Jupyter !== \"undefined\") {require.undef(\"nbextensions/vpython_libraries/glow.min\");}else{element.textContent = ' ';}",
      "text/plain": [
       "<IPython.core.display.Javascript object>"
      ]
     },
     "metadata": {},
     "output_type": "display_data"
    },
    {
     "data": {
      "application/javascript": "if (typeof Jupyter !== \"undefined\") {require.undef(\"nbextensions/vpython_libraries/glowcomm\");}else{element.textContent = ' ';}",
      "text/plain": [
       "<IPython.core.display.Javascript object>"
      ]
     },
     "metadata": {},
     "output_type": "display_data"
    },
    {
     "data": {
      "application/javascript": "if (typeof Jupyter !== \"undefined\") {require.undef(\"nbextensions/vpython_libraries/jquery-ui.custom.min\");}else{element.textContent = ' ';}",
      "text/plain": [
       "<IPython.core.display.Javascript object>"
      ]
     },
     "metadata": {},
     "output_type": "display_data"
    },
    {
     "data": {
      "application/javascript": "if (typeof Jupyter !== \"undefined\") {require([\"nbextensions/vpython_libraries/glow.min\"], function(){console.log(\"GLOW LOADED\");});}else{element.textContent = ' ';}",
      "text/plain": [
       "<IPython.core.display.Javascript object>"
      ]
     },
     "metadata": {},
     "output_type": "display_data"
    },
    {
     "data": {
      "application/javascript": "if (typeof Jupyter !== \"undefined\") {require([\"nbextensions/vpython_libraries/glowcomm\"], function(){console.log(\"GLOWCOMM LOADED\");});}else{element.textContent = ' ';}",
      "text/plain": [
       "<IPython.core.display.Javascript object>"
      ]
     },
     "metadata": {},
     "output_type": "display_data"
    },
    {
     "data": {
      "application/javascript": "if (typeof Jupyter !== \"undefined\") {require([\"nbextensions/vpython_libraries/jquery-ui.custom.min\"], function(){console.log(\"JQUERY LOADED\");});}else{element.textContent = ' ';}",
      "text/plain": [
       "<IPython.core.display.Javascript object>"
      ]
     },
     "metadata": {},
     "output_type": "display_data"
    }
   ],
   "source": [
    "def single_run(run_no, root=\"F:\\\\Simulation\", r_min=1, lifetime=5, gif = True, frames_for_gif=500):\n",
    "    \"\"\"\n",
    "    Shows an animation of the simulation within the notebook. If gif==True, every frames_for_gif frames are saved as separate png files (in the Downloads directory)\n",
    "    Parameters:\n",
    "    - run_no (int): The run number of the simulation you'd like to animate.\n",
    "    - root (str): The root directory path for the simulation output files. Default is \"F:\\\\Simulation\".\n",
    "    - r_min (int): The minimum radius used in the simulation. Default is 1.\n",
    "    - lifetime (int): The lifetime of the cells. Default is 5. Used to define cell radius.\n",
    "    - gif (bool): If True, saves frames from the animation to be turned into a gif. Default is True.\n",
    "    - frames_for_gif (int): The frame number to be saved into a gif. Default is every 500th frame.\n",
    "\n",
    "    \"\"\"\n",
    "    positions = np.load(root+\".\\\\Alterall_positions_{}.npy\".format(run_no), allow_pickle=True)\n",
    "    ages = np.load(root+\".\\\\Alterall_ages_{}.npy\".format(run_no), allow_pickle=True)\n",
    "    parameters = pd.read_parquet(root+\".\\\\AlterALL_Run{}.parquet\".format(run_no), engine='pyarrow').iloc[0][[\"beta\", \"a_eq_star_scaling\", \"lumen_radius_scaling\"]]\n",
    "    my_title = \"beta={}, b={}, f = {}\".format(round(parameters.beta,2), round(parameters.a_eq_star_scaling,2),round(parameters.lumen_radius_scaling, 2))\n",
    "    for i in range(1, 400):\n",
    "        globals()[f'cell{i}'] = 1\n",
    "\n",
    "    # Instantiate 400 objects and store out of frame until needed\n",
    "    cells = [globals()[f'cell{i}'] for i in range(1, 400)]\n",
    "    for i in range(len(cells)):\n",
    "        cells[i]= sphere(color = limegreen, radius = 0.3, pos=vector(50,50,50))\n",
    "\n",
    "    max_positions = [position.max(axis=0) for position in positions]\n",
    "    min_positions = [position.min(axis=0) for position in positions]\n",
    "    max_x = max([position[0] for position in max_positions])\n",
    "    max_y = max([position[0] for position in max_positions])\n",
    "    max_z = max([position[0] for position in max_positions])\n",
    "\n",
    "    min_x = min([position[0] for position in min_positions])\n",
    "    min_y = min([position[0] for position in min_positions])\n",
    "    min_z = min([position[0] for position in min_positions])\n",
    "\n",
    "    max_positions = np.array((max_x, max_y, max_z))\n",
    "    min_positions = np.array((min_x, min_y, min_z))\n",
    "    center = ((max_positions + min_positions)/2)\n",
    "    scene.center = vector(center[0], center[1],center[2])\n",
    "    my_range = (max_positions - min_positions).max()\n",
    "    scene.range = my_range + 2    \n",
    "    scene.resizable = False       # turns off user resizing\n",
    "    scene.userzoom = False \n",
    "\n",
    "    T = label(text=my_title, pos=vector(center[0], center[1],center[2]), box=False, line=False, yoffset = 120)\n",
    "    for j, position in enumerate (positions):\n",
    "        rate(100000)     \n",
    "        N_cells = position.shape[0]\n",
    "        for i, cell in enumerate(cells[:N_cells]):\n",
    "            \n",
    "            if i == N_cells-1:\n",
    "                cell.color = limegreen\n",
    "            else:\n",
    "                cell.color = dodgerblue\n",
    "            cell.pos = vector(position[i,0], position[i,1], position[i,2]) \n",
    "            cell.radius = r_min * (1 + ((np.cbrt(2)-1)*ages[j][i]*(1/lifetime)))\n",
    "        for i, cell in enumerate(cells[N_cells:]):\n",
    "            cell.pos = vector(50,50,50)\n",
    "            cell.color = color.red\n",
    "        if gif == True:\n",
    "            if j%frames_for_gif ==0:\n",
    "                scene.capture(\"{}_Run_{}\".format(int(j/frames_for_gif),run_no))\n",
    "\n",
    "single_run(214)"
   ]
  },
  {
   "cell_type": "markdown",
   "metadata": {},
   "source": [
    "# Multiple Runs"
   ]
  },
  {
   "cell_type": "code",
   "execution_count": 2,
   "metadata": {},
   "outputs": [],
   "source": [
    "def final_shot_of_multiple(all_i, root = \"F:\\\\Simulation\", title=True, r_min=1, lifetime=5):\n",
    "    \"\"\"\n",
    "    Saves a .png file of the final frame of each simulation in all_i (default storage location is Downloads). \n",
    "    Parameters:\n",
    "    - all_i (list): A list of the run numbers of the simulations you'd like to animate.\n",
    "    - title(Bool): If title==True, the simulation parameters are displayed as a title.\n",
    "    - root (str): The root directory path for the simulation output files. Default is \"F:\\\\Simulation\".\n",
    "    - r_min (int): The minimum radius used in the simulation. Default is 1.\n",
    "    - lifetime (int): The lifetime of the cells. Default is 5. Used to define cell radius.\n",
    "    \"\"\"\n",
    "    all_ages = []\n",
    "    all_positions = []\n",
    "    all_run_data = []\n",
    "    for i in all_i:\n",
    "        all_ages.append(root+\".\\\\AlterALL_ages_{}.npy\".format(i))\n",
    "        all_positions.append(root+\".\\\\AlterALL_positions_{}.npy\".format(i))\n",
    "        all_run_data.append(root+\".\\\\AlterALL_Run{}.parquet\".format(i))\n",
    "    cells = [sphere(color=limegreen, radius=0.3, pos=vector(50,50,50)) for _ in range(400)]\n",
    "    if title ==True:\n",
    "        T = label(text=\"X\", pos=vector(0,0,0), box=False, line=False)\n",
    "\n",
    "    for i, position in enumerate(all_positions):\n",
    "        rate(21)\n",
    "        try:\n",
    "            final_positions = np.load(position, allow_pickle=True)[-1]\n",
    "            final_ages = np.load(all_ages[i], allow_pickle=True)[-1]  \n",
    "            max_positions = final_positions.max(axis = 0)\n",
    "            min_positions = final_positions.min(axis = 0)\n",
    "            center = ((max_positions + min_positions)/2)\n",
    "            scene.center = vector(center[0], center[1],center[2])\n",
    "            my_range = (max_positions - min_positions).max()\n",
    "            scene.range = my_range + 2\n",
    "            N_cells = final_positions.shape[0]\n",
    "            for j, cell in enumerate(cells[:N_cells]):\n",
    "                if j == N_cells-1:\n",
    "                    cell.color = limegreen\n",
    "                else:\n",
    "                    cell.color = dodgerblue\n",
    "                cell.pos = vector(final_positions[j,0], final_positions[j,1], final_positions[j,2]) \n",
    "                cell.radius = r_min * (1 + ((np.cbrt(2)-1)*final_ages[j]*(1/lifetime)))\n",
    "            for cell in (cells[N_cells:]):\n",
    "                cell.pos = vector(50,50,50) \n",
    "            if title == True:\n",
    "                parameters = pd.read_parquet(root+\".\\\\AlterALL_Run{}.parquet\".format(i), engine='pyarrow').iloc[0][[\"beta\", \"a_eq_star_scaling\", \"lumen_radius_scaling\"]]\n",
    "                my_title = \"beta={}, b={}, f = {}\".format(round(parameters.beta,2), round(parameters.a_eq_star_scaling,2),round(parameters.lumen_radius_scaling, 2))\n",
    "                T.text = my_title\n",
    "                T.pos = vector(center[0], center[1], center[2])\n",
    "                T.yoffset = 120\n",
    "            scene.capture(\"Run_{}\".format(i))\n",
    "        except:\n",
    "            print(i)\n",
    "            continue\n",
    "final_shot_of_multiple([i for i in range(5)], title=True)"
   ]
  },
  {
   "cell_type": "markdown",
   "metadata": {},
   "source": [
    "# Create Gif"
   ]
  },
  {
   "cell_type": "code",
   "execution_count": 5,
   "metadata": {},
   "outputs": [
    {
     "name": "stderr",
     "output_type": "stream",
     "text": [
      "C:\\Users\\isobe\\AppData\\Local\\Temp\\ipykernel_25064\\1418501459.py:7: DeprecationWarning: Starting with ImageIO v3 the behavior of this function will switch to that of iio.v3.imread. To keep the current behavior (and make this warning disappear) use `import imageio.v2 as imageio` or call `imageio.v2.imread` directly.\n",
      "  images.append(imageio.imread(filename))\n"
     ]
    }
   ],
   "source": [
    "def create_gif(run_no, directory = 'C:\\\\Users\\\\Bel\\\\Downloads', max_no_frames=300, duration=15):\n",
    "    \"\"\"\n",
    "    Creates a gif from the png files saved in the Downloads directory. \n",
    "    Parameters:\n",
    "    - directory (str): The directory path where the png files are stored. Default is 'C:\\\\Users\\\\Bel\\\\Downloads'.\n",
    "    - run_no (int): The run number of the simulation you'd like to animate. Default is 0.\n",
    "    - max_no_frames (int): The maximum number of frames to be included in the gif. Default is 300.\n",
    "    - duration (int): The duration of each frame in the gif in seconds. Default is 15.\n",
    "    \"\"\"\n",
    "    images = []\n",
    "    for i in range(max_no_frames):\n",
    "        try:\n",
    "            images.append(imageio.imread(directory + \"\\\\{}_Run_{}.png\".format(i, run_no)))\n",
    "        except:\n",
    "            pass\n",
    "    output_file = os.path.join(directory, 'Run{}_output_{}s.gif'.format(run_no, duration))\n",
    "    imageio.mimsave(output_file, images, duration=duration/60)"
   ]
  },
  {
   "cell_type": "code",
   "execution_count": null,
   "metadata": {},
   "outputs": [],
   "source": []
  },
  {
   "cell_type": "code",
   "execution_count": null,
   "metadata": {},
   "outputs": [],
   "source": []
  },
  {
   "cell_type": "code",
   "execution_count": null,
   "metadata": {},
   "outputs": [],
   "source": []
  },
  {
   "cell_type": "code",
   "execution_count": null,
   "metadata": {},
   "outputs": [],
   "source": []
  }
 ],
 "metadata": {
  "kernelspec": {
   "display_name": "Python 3 (ipykernel)",
   "language": "python",
   "name": "python3"
  },
  "language_info": {
   "codemirror_mode": {
    "name": "ipython",
    "version": 3
   },
   "file_extension": ".py",
   "mimetype": "text/x-python",
   "name": "python",
   "nbconvert_exporter": "python",
   "pygments_lexer": "ipython3",
   "version": "3.9.7"
  }
 },
 "nbformat": 4,
 "nbformat_minor": 4
}
