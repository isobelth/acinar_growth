{
 "cells": [
  {
   "cell_type": "code",
   "execution_count": 1,
   "metadata": {},
   "outputs": [],
   "source": [
    "from final_neat_simulation import Simulation\n",
    "import random"
   ]
  },
  {
   "cell_type": "code",
   "execution_count": 2,
   "metadata": {},
   "outputs": [],
   "source": [
    "def instantiate_and_run_simulation(run_number):\n",
    "    \"\"\"\n",
    "    Instantiates and runs a simulation with the given run number.\n",
    "    If write_results = True, the output at each timestep will be saved as a parquet file in the write_path directory.\n",
    "    Args:\n",
    "        run_number (int): The number of the simulation run. Used to differentiate between different runs of the simulation.\n",
    "    Returns:\n",
    "        Simulation: The simulation object.\n",
    "    \"\"\"\n",
    "    simulation = Simulation(N_bodies=70)\n",
    "\n",
    "    beta = random.uniform(50, 300)\n",
    "    alpha = 0.3\n",
    "    A_eq_star_scaling = random.uniform(0.0001, 0.5)\n",
    "    P_star = 1\n",
    "    radius_scaling = random.uniform(0.4, 1.8)\n",
    "    volume_scaling = 0.1\n",
    "\n",
    "    simulation.execute(\n",
    "        beta=beta,\n",
    "        alpha=alpha,\n",
    "        A_eq_star_scaling=A_eq_star_scaling,\n",
    "        P_star=P_star,\n",
    "        radius_scaling=radius_scaling,\n",
    "        volume_scaling=volume_scaling,\n",
    "        run_number=run_number,\n",
    "        # write_results=True,\n",
    "        # write_path=\"f:\\\\Bel_Simulation\\\\outputs_13\"\n",
    "    )\n",
    "\n",
    "    return simulation"
   ]
  },
  {
   "cell_type": "code",
   "execution_count": 3,
   "metadata": {},
   "outputs": [
    {
     "data": {
      "text/plain": [
       "<final_neat_simulation.Simulation at 0x21da809fe50>"
      ]
     },
     "execution_count": 3,
     "metadata": {},
     "output_type": "execute_result"
    }
   ],
   "source": [
    "instantiate_and_run_simulation(0)"
   ]
  },
  {
   "cell_type": "code",
   "execution_count": null,
   "metadata": {},
   "outputs": [],
   "source": []
  }
 ],
 "metadata": {
  "kernelspec": {
   "display_name": "simulation",
   "language": "python",
   "name": "python3"
  },
  "language_info": {
   "codemirror_mode": {
    "name": "ipython",
    "version": 3
   },
   "file_extension": ".py",
   "mimetype": "text/x-python",
   "name": "python",
   "nbconvert_exporter": "python",
   "pygments_lexer": "ipython3",
   "version": "3.10.9"
  }
 },
 "nbformat": 4,
 "nbformat_minor": 2
}
